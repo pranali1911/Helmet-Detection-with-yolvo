{
  "nbformat": 4,
  "nbformat_minor": 0,
  "metadata": {
    "colab": {
      "provenance": [],
      "collapsed_sections": []
    },
    "kernelspec": {
      "name": "python3",
      "display_name": "Python 3"
    },
    "language_info": {
      "name": "python"
    },
    "accelerator": "GPU",
    "gpuClass": "standard"
  },
  "cells": [
    {
      "cell_type": "code",
      "execution_count": null,
      "metadata": {
        "colab": {
          "base_uri": "https://localhost:8080/"
        },
        "id": "HpvXlCAWxC0g",
        "outputId": "6aadddba-aefd-4a2e-ef70-7ffbe31b650d"
      },
      "outputs": [
        {
          "output_type": "stream",
          "name": "stdout",
          "text": [
            "Cloning into 'yolov5'...\n",
            "remote: Enumerating objects: 12627, done.\u001b[K\n",
            "remote: Counting objects: 100% (48/48), done.\u001b[K\n",
            "remote: Compressing objects: 100% (34/34), done.\u001b[K\n",
            "remote: Total 12627 (delta 21), reused 34 (delta 14), pack-reused 12579\u001b[K\n",
            "Receiving objects: 100% (12627/12627), 12.48 MiB | 32.67 MiB/s, done.\n",
            "Resolving deltas: 100% (8644/8644), done.\n",
            "/content/yolov5\n",
            "\u001b[K     |████████████████████████████████| 596 kB 33.7 MB/s \n",
            "\u001b[K     |████████████████████████████████| 145 kB 35.6 MB/s \n",
            "\u001b[K     |████████████████████████████████| 178 kB 62.6 MB/s \n",
            "\u001b[K     |████████████████████████████████| 1.1 MB 59.1 MB/s \n",
            "\u001b[K     |████████████████████████████████| 67 kB 7.9 MB/s \n",
            "\u001b[K     |████████████████████████████████| 54 kB 3.4 MB/s \n",
            "\u001b[K     |████████████████████████████████| 138 kB 66.8 MB/s \n",
            "\u001b[K     |████████████████████████████████| 62 kB 1.7 MB/s \n",
            "\u001b[?25h  Building wheel for roboflow (setup.py) ... \u001b[?25l\u001b[?25hdone\n",
            "  Building wheel for wget (setup.py) ... \u001b[?25l\u001b[?25hdone\n",
            "Setup complete. Using torch 1.12.0+cu113 (Tesla T4)\n"
          ]
        }
      ],
      "source": [
        "#clone YOLOv5 and \n",
        "!git clone https://github.com/ultralytics/yolov5  # clone repo\n",
        "%cd yolov5\n",
        "%pip install -qr requirements.txt # install dependencies\n",
        "%pip install -q roboflow\n",
        "\n",
        "import torch\n",
        "import os\n",
        "from IPython.display import Image, clear_output  # to display images\n",
        "\n",
        "print(f\"Setup complete. Using torch {torch.__version__} ({torch.cuda.get_device_properties(0).name if torch.cuda.is_available() else 'CPU'})\")"
      ]
    },
    {
      "cell_type": "code",
      "source": [
        "from roboflow import Roboflow\n",
        "rf = Roboflow(model_format=\"yolov5\", notebook=\"ultralytics\")"
      ],
      "metadata": {
        "colab": {
          "base_uri": "https://localhost:8080/"
        },
        "id": "fOJ0XDxpxVR5",
        "outputId": "76acdc60-a71e-4466-8dc7-d05046ca3f5d"
      },
      "execution_count": null,
      "outputs": [
        {
          "output_type": "stream",
          "name": "stdout",
          "text": [
            "upload and label your dataset, and get an API KEY here: https://app.roboflow.com/?model=yolov5&ref=ultralytics\n"
          ]
        }
      ]
    },
    {
      "cell_type": "code",
      "source": [
        "!pwd"
      ],
      "metadata": {
        "colab": {
          "base_uri": "https://localhost:8080/"
        },
        "id": "sRtuOVITxnZB",
        "outputId": "3863541b-8f7a-448a-a5e7-f98753f79b45"
      },
      "execution_count": null,
      "outputs": [
        {
          "output_type": "stream",
          "name": "stdout",
          "text": [
            "/content/yolov5\n"
          ]
        }
      ]
    },
    {
      "cell_type": "code",
      "source": [
        "# set up environment\n",
        "os.environ[\"DATASET_DIRECTORY\"] = \"/content/datasets\""
      ],
      "metadata": {
        "id": "-RUoO1wJxv5q"
      },
      "execution_count": null,
      "outputs": []
    },
    {
      "cell_type": "code",
      "source": [
        "!pip install roboflow\n",
        "\n",
        "from roboflow import Roboflow\n",
        "rf = Roboflow(api_key=\"5lJFy9Ppv7lvAOIKQIkN\")\n",
        "project = rf.workspace(\"pranali\").project(\"helmet-with-yolvo\")\n",
        "dataset = project.version(1).download(\"yolov5\")"
      ],
      "metadata": {
        "colab": {
          "base_uri": "https://localhost:8080/"
        },
        "id": "RxqINMddxyUi",
        "outputId": "5b9e4d3d-218e-45a5-e51c-fa2f6574b62c"
      },
      "execution_count": null,
      "outputs": [
        {
          "output_type": "stream",
          "name": "stdout",
          "text": [
            "Looking in indexes: https://pypi.org/simple, https://us-python.pkg.dev/colab-wheels/public/simple/\n",
            "Requirement already satisfied: roboflow in /usr/local/lib/python3.7/dist-packages (0.2.14)\n",
            "Requirement already satisfied: requests in /usr/local/lib/python3.7/dist-packages (from roboflow) (2.28.1)\n",
            "Requirement already satisfied: PyYAML>=5.3.1 in /usr/local/lib/python3.7/dist-packages (from roboflow) (6.0)\n",
            "Requirement already satisfied: cycler==0.10.0 in /usr/local/lib/python3.7/dist-packages (from roboflow) (0.10.0)\n",
            "Requirement already satisfied: matplotlib in /usr/local/lib/python3.7/dist-packages (from roboflow) (3.2.2)\n",
            "Requirement already satisfied: certifi==2021.5.30 in /usr/local/lib/python3.7/dist-packages (from roboflow) (2021.5.30)\n",
            "Requirement already satisfied: pyparsing==2.4.7 in /usr/local/lib/python3.7/dist-packages (from roboflow) (2.4.7)\n",
            "Requirement already satisfied: glob2 in /usr/local/lib/python3.7/dist-packages (from roboflow) (0.7)\n",
            "Requirement already satisfied: requests-toolbelt in /usr/local/lib/python3.7/dist-packages (from roboflow) (0.9.1)\n",
            "Requirement already satisfied: six in /usr/local/lib/python3.7/dist-packages (from roboflow) (1.15.0)\n",
            "Requirement already satisfied: numpy>=1.18.5 in /usr/local/lib/python3.7/dist-packages (from roboflow) (1.21.6)\n",
            "Requirement already satisfied: opencv-python-headless>=4.5.1.48 in /usr/local/lib/python3.7/dist-packages (from roboflow) (4.6.0.66)\n",
            "Requirement already satisfied: tqdm>=4.41.0 in /usr/local/lib/python3.7/dist-packages (from roboflow) (4.64.0)\n",
            "Requirement already satisfied: chardet==4.0.0 in /usr/local/lib/python3.7/dist-packages (from roboflow) (4.0.0)\n",
            "Requirement already satisfied: kiwisolver==1.3.1 in /usr/local/lib/python3.7/dist-packages (from roboflow) (1.3.1)\n",
            "Requirement already satisfied: Pillow>=7.1.2 in /usr/local/lib/python3.7/dist-packages (from roboflow) (7.1.2)\n",
            "Requirement already satisfied: python-dotenv in /usr/local/lib/python3.7/dist-packages (from roboflow) (0.20.0)\n",
            "Requirement already satisfied: wget in /usr/local/lib/python3.7/dist-packages (from roboflow) (3.2)\n",
            "Requirement already satisfied: urllib3==1.26.6 in /usr/local/lib/python3.7/dist-packages (from roboflow) (1.26.6)\n",
            "Requirement already satisfied: idna==2.10 in /usr/local/lib/python3.7/dist-packages (from roboflow) (2.10)\n",
            "Requirement already satisfied: python-dateutil in /usr/local/lib/python3.7/dist-packages (from roboflow) (2.8.2)\n",
            "Requirement already satisfied: charset-normalizer<3,>=2 in /usr/local/lib/python3.7/dist-packages (from requests->roboflow) (2.1.0)\n",
            "loading Roboflow workspace...\n",
            "loading Roboflow project...\n",
            "Downloading Dataset Version Zip in /content/datasets/Helmet-with-yolvo-1 to yolov5pytorch: 100% [94518125 / 94518125] bytes\n"
          ]
        },
        {
          "output_type": "stream",
          "name": "stderr",
          "text": [
            "Extracting Dataset Version Zip to /content/datasets/Helmet-with-yolvo-1 in yolov5pytorch:: 100%|██████████| 3066/3066 [00:03<00:00, 955.10it/s] \n"
          ]
        }
      ]
    },
    {
      "cell_type": "code",
      "source": [
        "!python train.py --img 416 --batch 2 --epochs 30 --data {dataset.location}/data.yaml --weights yolov5s.pt --cache"
      ],
      "metadata": {
        "colab": {
          "base_uri": "https://localhost:8080/"
        },
        "id": "L5hZYZpkx200",
        "outputId": "21036438-58ba-4f76-8fde-c7b3e85c32ef"
      },
      "execution_count": null,
      "outputs": [
        {
          "output_type": "stream",
          "name": "stdout",
          "text": [
            "\u001b[34m\u001b[1mtrain: \u001b[0mweights=yolov5s.pt, cfg=, data=/content/datasets/Helmet-with-yolvo-1/data.yaml, hyp=data/hyps/hyp.scratch-low.yaml, epochs=30, batch_size=2, imgsz=416, rect=False, resume=False, nosave=False, noval=False, noautoanchor=False, noplots=False, evolve=None, bucket=, cache=ram, image_weights=False, device=, multi_scale=False, single_cls=False, optimizer=SGD, sync_bn=False, workers=8, project=runs/train, name=exp, exist_ok=False, quad=False, cos_lr=False, label_smoothing=0.0, patience=100, freeze=[0], save_period=-1, seed=0, local_rank=-1, entity=None, upload_dataset=False, bbox_interval=-1, artifact_alias=latest\n",
            "\u001b[34m\u001b[1mgithub: \u001b[0mup to date with https://github.com/ultralytics/yolov5 ✅\n",
            "YOLOv5 🚀 v6.1-383-g3d47fc6 Python-3.7.13 torch-1.12.0+cu113 CUDA:0 (Tesla T4, 15110MiB)\n",
            "\n",
            "\u001b[34m\u001b[1mhyperparameters: \u001b[0mlr0=0.01, lrf=0.01, momentum=0.937, weight_decay=0.0005, warmup_epochs=3.0, warmup_momentum=0.8, warmup_bias_lr=0.1, box=0.05, cls=0.5, cls_pw=1.0, obj=1.0, obj_pw=1.0, iou_t=0.2, anchor_t=4.0, fl_gamma=0.0, hsv_h=0.015, hsv_s=0.7, hsv_v=0.4, degrees=0.0, translate=0.1, scale=0.5, shear=0.0, perspective=0.0, flipud=0.0, fliplr=0.5, mosaic=1.0, mixup=0.0, copy_paste=0.0\n",
            "\u001b[34m\u001b[1mWeights & Biases: \u001b[0mrun 'pip install wandb' to automatically track and visualize YOLOv5 🚀 runs in Weights & Biases\n",
            "\u001b[34m\u001b[1mClearML: \u001b[0mrun 'pip install clearml' to automatically track, visualize and remotely train YOLOv5 🚀 runs in ClearML\n",
            "\u001b[34m\u001b[1mTensorBoard: \u001b[0mStart with 'tensorboard --logdir runs/train', view at http://localhost:6006/\n",
            "Downloading https://ultralytics.com/assets/Arial.ttf to /root/.config/Ultralytics/Arial.ttf...\n",
            "100% 755k/755k [00:00<00:00, 99.6MB/s]\n",
            "Downloading https://github.com/ultralytics/yolov5/releases/download/v6.1/yolov5s.pt to yolov5s.pt...\n",
            "100% 14.1M/14.1M [00:00<00:00, 293MB/s]\n",
            "\n",
            "Overriding model.yaml nc=80 with nc=2\n",
            "\n",
            "                 from  n    params  module                                  arguments                     \n",
            "  0                -1  1      3520  models.common.Conv                      [3, 32, 6, 2, 2]              \n",
            "  1                -1  1     18560  models.common.Conv                      [32, 64, 3, 2]                \n",
            "  2                -1  1     18816  models.common.C3                        [64, 64, 1]                   \n",
            "  3                -1  1     73984  models.common.Conv                      [64, 128, 3, 2]               \n",
            "  4                -1  2    115712  models.common.C3                        [128, 128, 2]                 \n",
            "  5                -1  1    295424  models.common.Conv                      [128, 256, 3, 2]              \n",
            "  6                -1  3    625152  models.common.C3                        [256, 256, 3]                 \n",
            "  7                -1  1   1180672  models.common.Conv                      [256, 512, 3, 2]              \n",
            "  8                -1  1   1182720  models.common.C3                        [512, 512, 1]                 \n",
            "  9                -1  1    656896  models.common.SPPF                      [512, 512, 5]                 \n",
            " 10                -1  1    131584  models.common.Conv                      [512, 256, 1, 1]              \n",
            " 11                -1  1         0  torch.nn.modules.upsampling.Upsample    [None, 2, 'nearest']          \n",
            " 12           [-1, 6]  1         0  models.common.Concat                    [1]                           \n",
            " 13                -1  1    361984  models.common.C3                        [512, 256, 1, False]          \n",
            " 14                -1  1     33024  models.common.Conv                      [256, 128, 1, 1]              \n",
            " 15                -1  1         0  torch.nn.modules.upsampling.Upsample    [None, 2, 'nearest']          \n",
            " 16           [-1, 4]  1         0  models.common.Concat                    [1]                           \n",
            " 17                -1  1     90880  models.common.C3                        [256, 128, 1, False]          \n",
            " 18                -1  1    147712  models.common.Conv                      [128, 128, 3, 2]              \n",
            " 19          [-1, 14]  1         0  models.common.Concat                    [1]                           \n",
            " 20                -1  1    296448  models.common.C3                        [256, 256, 1, False]          \n",
            " 21                -1  1    590336  models.common.Conv                      [256, 256, 3, 2]              \n",
            " 22          [-1, 10]  1         0  models.common.Concat                    [1]                           \n",
            " 23                -1  1   1182720  models.common.C3                        [512, 512, 1, False]          \n",
            " 24      [17, 20, 23]  1     18879  models.yolo.Detect                      [2, [[10, 13, 16, 30, 33, 23], [30, 61, 62, 45, 59, 119], [116, 90, 156, 198, 373, 326]], [128, 256, 512]]\n",
            "Model summary: 270 layers, 7025023 parameters, 7025023 gradients, 16.0 GFLOPs\n",
            "\n",
            "Transferred 343/349 items from yolov5s.pt\n",
            "\u001b[34m\u001b[1mAMP: \u001b[0mchecks passed ✅\n",
            "\u001b[34m\u001b[1moptimizer:\u001b[0m SGD(lr=0.01) with parameter groups 57 weight(decay=0.0), 60 weight(decay=0.0005), 60 bias\n",
            "\u001b[34m\u001b[1malbumentations: \u001b[0mBlur(always_apply=False, p=0.01, blur_limit=(3, 7)), MedianBlur(always_apply=False, p=0.01, blur_limit=(3, 7)), ToGray(always_apply=False, p=0.01), CLAHE(always_apply=False, p=0.01, clip_limit=(1, 4.0), tile_grid_size=(8, 8))\n",
            "\u001b[34m\u001b[1mtrain: \u001b[0mScanning '/content/datasets/Helmet-with-yolvo-1/train/labels' images and labels...1347 found, 0 missing, 15 empty, 0 corrupt: 100% 1347/1347 [00:00<00:00, 2186.68it/s]\n",
            "\u001b[34m\u001b[1mtrain: \u001b[0mNew cache created: /content/datasets/Helmet-with-yolvo-1/train/labels.cache\n",
            "\u001b[34m\u001b[1mtrain: \u001b[0mCaching images (0.7GB ram): 100% 1347/1347 [00:03<00:00, 337.04it/s]\n",
            "\u001b[34m\u001b[1mval: \u001b[0mScanning '/content/datasets/Helmet-with-yolvo-1/valid/labels' images and labels...122 found, 0 missing, 3 empty, 0 corrupt: 100% 122/122 [00:00<00:00, 1346.32it/s]\n",
            "\u001b[34m\u001b[1mval: \u001b[0mNew cache created: /content/datasets/Helmet-with-yolvo-1/valid/labels.cache\n",
            "\u001b[34m\u001b[1mval: \u001b[0mCaching images (0.1GB ram): 100% 122/122 [00:00<00:00, 393.56it/s]\n",
            "Plotting labels to runs/train/exp/labels.jpg... \n",
            "\n",
            "\u001b[34m\u001b[1mAutoAnchor: \u001b[0m6.03 anchors/target, 1.000 Best Possible Recall (BPR). Current anchors are a good fit to dataset ✅\n",
            "Image sizes 416 train, 416 val\n",
            "Using 2 dataloader workers\n",
            "Logging results to \u001b[1mruns/train/exp\u001b[0m\n",
            "Starting training for 30 epochs...\n",
            "\n",
            "     Epoch   gpu_mem       box       obj       cls    labels  img_size\n",
            "      0/29    0.294G   0.09201   0.02588   0.02479         1       416: 100% 674/674 [01:06<00:00, 10.07it/s]\n",
            "               Class     Images     Labels          P          R     mAP@.5 mAP@.5:.95: 100% 31/31 [00:03<00:00, 10.09it/s]\n",
            "                 all        122        229      0.133      0.271      0.164     0.0522\n",
            "\n",
            "     Epoch   gpu_mem       box       obj       cls    labels  img_size\n",
            "      1/29    0.294G   0.06575   0.02275   0.02172         1       416: 100% 674/674 [01:00<00:00, 11.07it/s]\n",
            "               Class     Images     Labels          P          R     mAP@.5 mAP@.5:.95: 100% 31/31 [00:01<00:00, 19.15it/s]\n",
            "                 all        122        229      0.309      0.512      0.344      0.126\n",
            "\n",
            "     Epoch   gpu_mem       box       obj       cls    labels  img_size\n",
            "      2/29    0.294G     0.059    0.0208   0.02076         0       416: 100% 674/674 [01:00<00:00, 11.14it/s]\n",
            "               Class     Images     Labels          P          R     mAP@.5 mAP@.5:.95: 100% 31/31 [00:01<00:00, 19.37it/s]\n",
            "                 all        122        229      0.241      0.546      0.335       0.13\n",
            "\n",
            "     Epoch   gpu_mem       box       obj       cls    labels  img_size\n",
            "      3/29    0.294G   0.05321   0.01931   0.01885         4       416: 100% 674/674 [01:00<00:00, 11.15it/s]\n",
            "               Class     Images     Labels          P          R     mAP@.5 mAP@.5:.95: 100% 31/31 [00:01<00:00, 19.69it/s]\n",
            "                 all        122        229      0.444      0.589      0.507      0.247\n",
            "\n",
            "     Epoch   gpu_mem       box       obj       cls    labels  img_size\n",
            "      4/29    0.294G   0.04918   0.01801   0.01657         0       416: 100% 674/674 [01:00<00:00, 11.13it/s]\n",
            "               Class     Images     Labels          P          R     mAP@.5 mAP@.5:.95: 100% 31/31 [00:01<00:00, 19.97it/s]\n",
            "                 all        122        229      0.564       0.74      0.602      0.281\n",
            "\n",
            "     Epoch   gpu_mem       box       obj       cls    labels  img_size\n",
            "      5/29    0.294G   0.04592   0.01802   0.01371         1       416: 100% 674/674 [01:00<00:00, 11.17it/s]\n",
            "               Class     Images     Labels          P          R     mAP@.5 mAP@.5:.95: 100% 31/31 [00:01<00:00, 19.78it/s]\n",
            "                 all        122        229      0.616      0.703      0.629      0.318\n",
            "\n",
            "     Epoch   gpu_mem       box       obj       cls    labels  img_size\n",
            "      6/29    0.294G   0.04397   0.01782    0.0129         3       416: 100% 674/674 [01:00<00:00, 11.12it/s]\n",
            "               Class     Images     Labels          P          R     mAP@.5 mAP@.5:.95: 100% 31/31 [00:01<00:00, 19.81it/s]\n",
            "                 all        122        229      0.665      0.622      0.636      0.314\n",
            "\n",
            "     Epoch   gpu_mem       box       obj       cls    labels  img_size\n",
            "      7/29    0.294G   0.04334   0.01793   0.01222         2       416: 100% 674/674 [00:59<00:00, 11.23it/s]\n",
            "               Class     Images     Labels          P          R     mAP@.5 mAP@.5:.95: 100% 31/31 [00:01<00:00, 19.54it/s]\n",
            "                 all        122        229      0.571      0.705      0.613      0.312\n",
            "\n",
            "     Epoch   gpu_mem       box       obj       cls    labels  img_size\n",
            "      8/29    0.294G   0.04144   0.01717   0.01186         1       416: 100% 674/674 [01:00<00:00, 11.18it/s]\n",
            "               Class     Images     Labels          P          R     mAP@.5 mAP@.5:.95: 100% 31/31 [00:01<00:00, 19.86it/s]\n",
            "                 all        122        229       0.69      0.697      0.706      0.358\n",
            "\n",
            "     Epoch   gpu_mem       box       obj       cls    labels  img_size\n",
            "      9/29    0.294G   0.04166   0.01711   0.01135         0       416: 100% 674/674 [01:00<00:00, 11.19it/s]\n",
            "               Class     Images     Labels          P          R     mAP@.5 mAP@.5:.95: 100% 31/31 [00:01<00:00, 19.92it/s]\n",
            "                 all        122        229      0.646      0.724      0.701      0.394\n",
            "\n",
            "     Epoch   gpu_mem       box       obj       cls    labels  img_size\n",
            "     10/29    0.294G   0.03969   0.01676   0.01004         2       416: 100% 674/674 [01:00<00:00, 11.21it/s]\n",
            "               Class     Images     Labels          P          R     mAP@.5 mAP@.5:.95: 100% 31/31 [00:01<00:00, 20.06it/s]\n",
            "                 all        122        229      0.641      0.744      0.719      0.394\n",
            "\n",
            "     Epoch   gpu_mem       box       obj       cls    labels  img_size\n",
            "     11/29    0.294G   0.03894    0.0164  0.009748         1       416: 100% 674/674 [01:00<00:00, 11.18it/s]\n",
            "               Class     Images     Labels          P          R     mAP@.5 mAP@.5:.95: 100% 31/31 [00:01<00:00, 19.68it/s]\n",
            "                 all        122        229      0.655      0.636      0.618      0.331\n",
            "\n",
            "     Epoch   gpu_mem       box       obj       cls    labels  img_size\n",
            "     12/29    0.294G   0.03922    0.0169  0.009228         5       416: 100% 674/674 [01:00<00:00, 11.15it/s]\n",
            "               Class     Images     Labels          P          R     mAP@.5 mAP@.5:.95: 100% 31/31 [00:01<00:00, 20.12it/s]\n",
            "                 all        122        229        0.6      0.711      0.691      0.379\n",
            "\n",
            "     Epoch   gpu_mem       box       obj       cls    labels  img_size\n",
            "     13/29    0.294G   0.03732   0.01566  0.009177         3       416: 100% 674/674 [01:00<00:00, 11.17it/s]\n",
            "               Class     Images     Labels          P          R     mAP@.5 mAP@.5:.95: 100% 31/31 [00:01<00:00, 19.86it/s]\n",
            "                 all        122        229      0.651      0.754      0.702      0.396\n",
            "\n",
            "     Epoch   gpu_mem       box       obj       cls    labels  img_size\n",
            "     14/29    0.294G   0.03634   0.01584  0.008179         1       416: 100% 674/674 [01:00<00:00, 11.17it/s]\n",
            "               Class     Images     Labels          P          R     mAP@.5 mAP@.5:.95: 100% 31/31 [00:01<00:00, 19.63it/s]\n",
            "                 all        122        229      0.648      0.668      0.647      0.359\n",
            "\n",
            "     Epoch   gpu_mem       box       obj       cls    labels  img_size\n",
            "     15/29    0.294G    0.0358   0.01582  0.008366         2       416: 100% 674/674 [01:00<00:00, 11.16it/s]\n",
            "               Class     Images     Labels          P          R     mAP@.5 mAP@.5:.95: 100% 31/31 [00:01<00:00, 19.65it/s]\n",
            "                 all        122        229       0.71      0.704      0.728      0.396\n",
            "\n",
            "     Epoch   gpu_mem       box       obj       cls    labels  img_size\n",
            "     16/29    0.294G   0.03573   0.01552   0.00686         4       416: 100% 674/674 [01:00<00:00, 11.21it/s]\n",
            "               Class     Images     Labels          P          R     mAP@.5 mAP@.5:.95: 100% 31/31 [00:01<00:00, 19.54it/s]\n",
            "                 all        122        229      0.675      0.731      0.699      0.404\n",
            "\n",
            "     Epoch   gpu_mem       box       obj       cls    labels  img_size\n",
            "     17/29    0.294G   0.03492   0.01552  0.007299         3       416: 100% 674/674 [01:00<00:00, 11.19it/s]\n",
            "               Class     Images     Labels          P          R     mAP@.5 mAP@.5:.95: 100% 31/31 [00:01<00:00, 19.52it/s]\n",
            "                 all        122        229      0.663      0.745      0.707      0.385\n",
            "\n",
            "     Epoch   gpu_mem       box       obj       cls    labels  img_size\n",
            "     18/29    0.294G   0.03393    0.0153  0.006714         2       416: 100% 674/674 [01:00<00:00, 11.13it/s]\n",
            "               Class     Images     Labels          P          R     mAP@.5 mAP@.5:.95: 100% 31/31 [00:01<00:00, 19.91it/s]\n",
            "                 all        122        229       0.67      0.738       0.71      0.406\n",
            "\n",
            "     Epoch   gpu_mem       box       obj       cls    labels  img_size\n",
            "     19/29    0.294G   0.03417   0.01498   0.00656         2       416: 100% 674/674 [01:00<00:00, 11.09it/s]\n",
            "               Class     Images     Labels          P          R     mAP@.5 mAP@.5:.95: 100% 31/31 [00:01<00:00, 19.77it/s]\n",
            "                 all        122        229      0.657      0.741      0.705      0.379\n",
            "\n",
            "     Epoch   gpu_mem       box       obj       cls    labels  img_size\n",
            "     20/29    0.294G   0.03312   0.01521  0.006499         1       416: 100% 674/674 [01:00<00:00, 11.17it/s]\n",
            "               Class     Images     Labels          P          R     mAP@.5 mAP@.5:.95: 100% 31/31 [00:01<00:00, 19.67it/s]\n",
            "                 all        122        229      0.747      0.675      0.722      0.404\n",
            "\n",
            "     Epoch   gpu_mem       box       obj       cls    labels  img_size\n",
            "     21/29    0.294G   0.03284   0.01446  0.005636         2       416: 100% 674/674 [01:00<00:00, 11.11it/s]\n",
            "               Class     Images     Labels          P          R     mAP@.5 mAP@.5:.95: 100% 31/31 [00:01<00:00, 19.70it/s]\n",
            "                 all        122        229      0.661      0.662      0.666      0.369\n",
            "\n",
            "     Epoch   gpu_mem       box       obj       cls    labels  img_size\n",
            "     22/29    0.294G   0.03236   0.01468  0.005122         1       416: 100% 674/674 [01:00<00:00, 11.19it/s]\n",
            "               Class     Images     Labels          P          R     mAP@.5 mAP@.5:.95: 100% 31/31 [00:01<00:00, 19.49it/s]\n",
            "                 all        122        229        0.7      0.724       0.73      0.424\n",
            "\n",
            "     Epoch   gpu_mem       box       obj       cls    labels  img_size\n",
            "     23/29    0.294G   0.03134   0.01412  0.004828         1       416: 100% 674/674 [01:00<00:00, 11.13it/s]\n",
            "               Class     Images     Labels          P          R     mAP@.5 mAP@.5:.95: 100% 31/31 [00:01<00:00, 20.00it/s]\n",
            "                 all        122        229      0.774      0.706      0.779       0.45\n",
            "\n",
            "     Epoch   gpu_mem       box       obj       cls    labels  img_size\n",
            "     24/29    0.294G   0.03129   0.01423   0.00448         5       416: 100% 674/674 [01:00<00:00, 11.14it/s]\n",
            "               Class     Images     Labels          P          R     mAP@.5 mAP@.5:.95: 100% 31/31 [00:01<00:00, 19.78it/s]\n",
            "                 all        122        229      0.692      0.763      0.763      0.431\n",
            "\n",
            "     Epoch   gpu_mem       box       obj       cls    labels  img_size\n",
            "     25/29    0.294G   0.03038   0.01358   0.00428         1       416: 100% 674/674 [01:00<00:00, 11.18it/s]\n",
            "               Class     Images     Labels          P          R     mAP@.5 mAP@.5:.95: 100% 31/31 [00:01<00:00, 20.20it/s]\n",
            "                 all        122        229        0.7      0.732      0.724      0.421\n",
            "\n",
            "     Epoch   gpu_mem       box       obj       cls    labels  img_size\n",
            "     26/29    0.294G   0.03062   0.01389  0.004541         0       416: 100% 674/674 [01:00<00:00, 11.13it/s]\n",
            "               Class     Images     Labels          P          R     mAP@.5 mAP@.5:.95: 100% 31/31 [00:01<00:00, 19.93it/s]\n",
            "                 all        122        229      0.719       0.73      0.735      0.419\n",
            "\n",
            "     Epoch   gpu_mem       box       obj       cls    labels  img_size\n",
            "     27/29    0.294G   0.02955   0.01391  0.003663         2       416: 100% 674/674 [01:00<00:00, 11.23it/s]\n",
            "               Class     Images     Labels          P          R     mAP@.5 mAP@.5:.95: 100% 31/31 [00:01<00:00, 20.49it/s]\n",
            "                 all        122        229      0.682       0.73      0.719      0.429\n",
            "\n",
            "     Epoch   gpu_mem       box       obj       cls    labels  img_size\n",
            "     28/29    0.294G   0.02944   0.01358  0.004141         4       416: 100% 674/674 [01:00<00:00, 11.16it/s]\n",
            "               Class     Images     Labels          P          R     mAP@.5 mAP@.5:.95: 100% 31/31 [00:01<00:00, 19.93it/s]\n",
            "                 all        122        229      0.686       0.73      0.723      0.431\n",
            "\n",
            "     Epoch   gpu_mem       box       obj       cls    labels  img_size\n",
            "     29/29    0.294G   0.02884   0.01362  0.003618         0       416: 100% 674/674 [01:00<00:00, 11.22it/s]\n",
            "               Class     Images     Labels          P          R     mAP@.5 mAP@.5:.95: 100% 31/31 [00:01<00:00, 20.16it/s]\n",
            "                 all        122        229      0.664      0.784      0.756      0.449\n",
            "\n",
            "30 epochs completed in 0.522 hours.\n",
            "Optimizer stripped from runs/train/exp/weights/last.pt, 14.3MB\n",
            "Optimizer stripped from runs/train/exp/weights/best.pt, 14.3MB\n",
            "\n",
            "Validating runs/train/exp/weights/best.pt...\n",
            "Fusing layers... \n",
            "Model summary: 213 layers, 7015519 parameters, 0 gradients, 15.8 GFLOPs\n",
            "               Class     Images     Labels          P          R     mAP@.5 mAP@.5:.95: 100% 31/31 [00:01<00:00, 16.13it/s]\n",
            "                 all        122        229      0.774        0.7      0.778      0.449\n",
            "         With Helmet        122        140      0.793      0.771      0.803      0.499\n",
            "      Without Helmet        122         89      0.756      0.628      0.754      0.399\n",
            "Results saved to \u001b[1mruns/train/exp\u001b[0m\n"
          ]
        }
      ]
    },
    {
      "cell_type": "code",
      "source": [
        "!python detect.py --weights runs/train/exp/weights/best.pt --img 416 --conf 0.1 --source {dataset.location}/test/images"
      ],
      "metadata": {
        "colab": {
          "base_uri": "https://localhost:8080/"
        },
        "id": "5bQ63FIgXM4G",
        "outputId": "7c6c0fa7-8bfa-4f8d-b9ae-3f3436690437"
      },
      "execution_count": null,
      "outputs": [
        {
          "output_type": "stream",
          "name": "stdout",
          "text": [
            "\u001b[34m\u001b[1mdetect: \u001b[0mweights=['runs/train/exp/weights/best.pt'], source=/content/datasets/Helmet-with-yolvo-1/test/images, data=data/coco128.yaml, imgsz=[416, 416], conf_thres=0.1, iou_thres=0.45, max_det=1000, device=, view_img=False, save_txt=False, save_conf=False, save_crop=False, nosave=False, classes=None, agnostic_nms=False, augment=False, visualize=False, update=False, project=runs/detect, name=exp, exist_ok=False, line_thickness=3, hide_labels=False, hide_conf=False, half=False, dnn=False\n",
            "YOLOv5 🚀 v6.1-383-g3d47fc6 Python-3.7.13 torch-1.12.0+cu113 CUDA:0 (Tesla T4, 15110MiB)\n",
            "\n",
            "Fusing layers... \n",
            "Model summary: 213 layers, 7015519 parameters, 0 gradients, 15.8 GFLOPs\n",
            "image 1/58 /content/datasets/Helmet-with-yolvo-1/test/images/BikesHelmets107_png.rf.26ee7b3cf94b56cf2a0e0270877134e7.jpg: 416x416 1 With Helmet, Done. (0.010s)\n",
            "image 2/58 /content/datasets/Helmet-with-yolvo-1/test/images/BikesHelmets129_png.rf.070b114f61d15198eb705f224117e6f8.jpg: 416x416 1 With Helmet, Done. (0.008s)\n",
            "image 3/58 /content/datasets/Helmet-with-yolvo-1/test/images/BikesHelmets135_png.rf.36da13650baafedebeb72fda6cad24bc.jpg: 416x416 4 With Helmets, Done. (0.008s)\n",
            "image 4/58 /content/datasets/Helmet-with-yolvo-1/test/images/BikesHelmets136_png.rf.174ec497e7c2ff9687fca3f311fd3e2e.jpg: 416x416 1 With Helmet, Done. (0.008s)\n",
            "image 5/58 /content/datasets/Helmet-with-yolvo-1/test/images/BikesHelmets162_png.rf.9a268300c63adcf218069d50f52fac09.jpg: 416x416 1 With Helmet, Done. (0.008s)\n",
            "image 6/58 /content/datasets/Helmet-with-yolvo-1/test/images/BikesHelmets16_png.rf.32442ce4a7984aea188b62659ef802dd.jpg: 416x416 5 With Helmets, Done. (0.008s)\n",
            "image 7/58 /content/datasets/Helmet-with-yolvo-1/test/images/BikesHelmets190_png.rf.bde9a571ff7744168f3df6400cbd3c8b.jpg: 416x416 10 Without Helmets, Done. (0.008s)\n",
            "image 8/58 /content/datasets/Helmet-with-yolvo-1/test/images/BikesHelmets194_png.rf.64f222d347b087cb46282363fbe1c074.jpg: 416x416 Done. (0.008s)\n",
            "image 9/58 /content/datasets/Helmet-with-yolvo-1/test/images/BikesHelmets215_png.rf.7f3cd800223825fe6bb85245f4dc7a20.jpg: 416x416 8 With Helmets, Done. (0.008s)\n",
            "image 10/58 /content/datasets/Helmet-with-yolvo-1/test/images/BikesHelmets219_png.rf.49add65fdaef5d8f5aeb43ad864ddebc.jpg: 416x416 6 With Helmets, Done. (0.008s)\n",
            "image 11/58 /content/datasets/Helmet-with-yolvo-1/test/images/BikesHelmets229_png.rf.1572e2f4b968d516daa9ddd5b453a9d8.jpg: 416x416 1 With Helmet, Done. (0.008s)\n",
            "image 12/58 /content/datasets/Helmet-with-yolvo-1/test/images/BikesHelmets231_png.rf.1b77efb3e36d07c36f6c1763a4fcb3f3.jpg: 416x416 2 With Helmets, 3 Without Helmets, Done. (0.007s)\n",
            "image 13/58 /content/datasets/Helmet-with-yolvo-1/test/images/BikesHelmets263_png.rf.a37834a4f29f492bf60487dbce32600d.jpg: 416x416 1 With Helmet, Done. (0.007s)\n",
            "image 14/58 /content/datasets/Helmet-with-yolvo-1/test/images/BikesHelmets26_png.rf.b8b3294c4a9fd9816fd973ba26208d6f.jpg: 416x416 1 With Helmet, Done. (0.009s)\n",
            "image 15/58 /content/datasets/Helmet-with-yolvo-1/test/images/BikesHelmets291_png.rf.6eca83d46d583d0def1609939ee375cd.jpg: 416x416 1 Without Helmet, Done. (0.008s)\n",
            "image 16/58 /content/datasets/Helmet-with-yolvo-1/test/images/BikesHelmets314_png.rf.5ac746e62e13ce93f2c5cc827dd3c9f3.jpg: 416x416 1 Without Helmet, Done. (0.008s)\n",
            "image 17/58 /content/datasets/Helmet-with-yolvo-1/test/images/BikesHelmets322_png.rf.cfc350a7063096ff04a66070cbfe50ff.jpg: 416x416 1 With Helmet, 1 Without Helmet, Done. (0.008s)\n",
            "image 18/58 /content/datasets/Helmet-with-yolvo-1/test/images/BikesHelmets335_png.rf.340b60f6f76be0b674fab990a905390f.jpg: 416x416 2 Without Helmets, Done. (0.008s)\n",
            "image 19/58 /content/datasets/Helmet-with-yolvo-1/test/images/BikesHelmets338_png.rf.07aecba09c8fe5f9b60f3868ace7a8df.jpg: 416x416 6 With Helmets, 2 Without Helmets, Done. (0.008s)\n",
            "image 20/58 /content/datasets/Helmet-with-yolvo-1/test/images/BikesHelmets343_png.rf.5a955aee303eb4c2333f638f584477db.jpg: 416x416 1 With Helmet, Done. (0.008s)\n",
            "image 21/58 /content/datasets/Helmet-with-yolvo-1/test/images/BikesHelmets349_png.rf.06fd6be94c2ea9593e1fe779f46e968f.jpg: 416x416 2 With Helmets, Done. (0.008s)\n",
            "image 22/58 /content/datasets/Helmet-with-yolvo-1/test/images/BikesHelmets356_png.rf.28b5310882923599aa2e90d986358644.jpg: 416x416 3 With Helmets, Done. (0.008s)\n",
            "image 23/58 /content/datasets/Helmet-with-yolvo-1/test/images/BikesHelmets362_png.rf.e5240050b8e8adf237e00b6e5b8e2c40.jpg: 416x416 2 With Helmets, Done. (0.008s)\n",
            "image 24/58 /content/datasets/Helmet-with-yolvo-1/test/images/BikesHelmets370_png.rf.acb333f455178f3306d043a5438685a0.jpg: 416x416 2 With Helmets, Done. (0.008s)\n",
            "image 25/58 /content/datasets/Helmet-with-yolvo-1/test/images/BikesHelmets380_png.rf.4594d64c444416a09010feff44415e5f.jpg: 416x416 2 With Helmets, Done. (0.008s)\n",
            "image 26/58 /content/datasets/Helmet-with-yolvo-1/test/images/BikesHelmets415_png.rf.276baff03f366795af89f0b5789a802c.jpg: 416x416 3 With Helmets, Done. (0.008s)\n",
            "image 27/58 /content/datasets/Helmet-with-yolvo-1/test/images/BikesHelmets41_png.rf.8371572902d2c85714a00cda351c98ed.jpg: 416x416 2 With Helmets, Done. (0.008s)\n",
            "image 28/58 /content/datasets/Helmet-with-yolvo-1/test/images/BikesHelmets424_png.rf.86382364b28c1cc70afb3530594367bd.jpg: 416x416 1 Without Helmet, Done. (0.008s)\n",
            "image 29/58 /content/datasets/Helmet-with-yolvo-1/test/images/BikesHelmets428_png.rf.67934f28de7b055b30b0ab5851718b63.jpg: 416x416 2 With Helmets, Done. (0.008s)\n",
            "image 30/58 /content/datasets/Helmet-with-yolvo-1/test/images/BikesHelmets444_png.rf.c6ba206951157c9c189d4edf378d77a6.jpg: 416x416 1 With Helmet, 2 Without Helmets, Done. (0.008s)\n",
            "image 31/58 /content/datasets/Helmet-with-yolvo-1/test/images/BikesHelmets452_png.rf.b05a7722577052f75c345355f69bc44e.jpg: 416x416 1 Without Helmet, Done. (0.008s)\n",
            "image 32/58 /content/datasets/Helmet-with-yolvo-1/test/images/BikesHelmets471_png.rf.9ccfbd476e8020144fd3169520935e92.jpg: 416x416 2 Without Helmets, Done. (0.008s)\n",
            "image 33/58 /content/datasets/Helmet-with-yolvo-1/test/images/BikesHelmets489_png.rf.6f009970c60932b02ba32a39bc7eb38b.jpg: 416x416 3 With Helmets, Done. (0.012s)\n",
            "image 34/58 /content/datasets/Helmet-with-yolvo-1/test/images/BikesHelmets541_png.rf.549c9556db6fb5535d998a5d0b565b41.jpg: 416x416 3 With Helmets, Done. (0.008s)\n",
            "image 35/58 /content/datasets/Helmet-with-yolvo-1/test/images/BikesHelmets559_png.rf.817f21b791f89baeaf7b332accc2fefc.jpg: 416x416 4 Without Helmets, Done. (0.008s)\n",
            "image 36/58 /content/datasets/Helmet-with-yolvo-1/test/images/BikesHelmets573_png.rf.803d5c5dd4756d9a3be7491ddc287943.jpg: 416x416 3 With Helmets, Done. (0.008s)\n",
            "image 37/58 /content/datasets/Helmet-with-yolvo-1/test/images/BikesHelmets57_png.rf.813265701b1594ff5e70994f1c74bfd2.jpg: 416x416 1 With Helmet, 2 Without Helmets, Done. (0.008s)\n",
            "image 38/58 /content/datasets/Helmet-with-yolvo-1/test/images/BikesHelmets5_png.rf.f394809393bcb872ca048ad8b761db98.jpg: 416x416 1 With Helmet, 2 Without Helmets, Done. (0.008s)\n",
            "image 39/58 /content/datasets/Helmet-with-yolvo-1/test/images/BikesHelmets611_png.rf.1de8710d78516d7c6d812c5429147115.jpg: 416x416 2 With Helmets, 1 Without Helmet, Done. (0.008s)\n",
            "image 40/58 /content/datasets/Helmet-with-yolvo-1/test/images/BikesHelmets619_png.rf.d7f758d842b62de5ea457a530394a802.jpg: 416x416 4 With Helmets, Done. (0.008s)\n",
            "image 41/58 /content/datasets/Helmet-with-yolvo-1/test/images/BikesHelmets629_png.rf.ab78c8b93df42d6c5a76aa6732a91c48.jpg: 416x416 1 With Helmet, 1 Without Helmet, Done. (0.008s)\n",
            "image 42/58 /content/datasets/Helmet-with-yolvo-1/test/images/BikesHelmets649_png.rf.fa9df010327d55e70c1307a14011cc37.jpg: 416x416 1 With Helmet, Done. (0.008s)\n",
            "image 43/58 /content/datasets/Helmet-with-yolvo-1/test/images/BikesHelmets657_png.rf.b02d33f845cb7d977fddbfb8c50f924d.jpg: 416x416 6 Without Helmets, Done. (0.008s)\n",
            "image 44/58 /content/datasets/Helmet-with-yolvo-1/test/images/BikesHelmets665_png.rf.91e3f0f0f591095026eb9a113a52b7a9.jpg: 416x416 7 With Helmets, 2 Without Helmets, Done. (0.009s)\n",
            "image 45/58 /content/datasets/Helmet-with-yolvo-1/test/images/BikesHelmets677_png.rf.b87bf7ce45359c83b258bcf811902f45.jpg: 416x416 2 With Helmets, Done. (0.009s)\n",
            "image 46/58 /content/datasets/Helmet-with-yolvo-1/test/images/BikesHelmets682_png.rf.8a097001c7e5f7011769b5dcb1c56736.jpg: 416x416 1 With Helmet, Done. (0.008s)\n",
            "image 47/58 /content/datasets/Helmet-with-yolvo-1/test/images/BikesHelmets6_png.rf.556ed28b5a19b31c1c73ac29ac376286.jpg: 416x416 7 With Helmets, Done. (0.008s)\n",
            "image 48/58 /content/datasets/Helmet-with-yolvo-1/test/images/BikesHelmets707_png.rf.4689db81815d4db333bfcfda5937c5a0.jpg: 416x416 1 With Helmet, 2 Without Helmets, Done. (0.008s)\n",
            "image 49/58 /content/datasets/Helmet-with-yolvo-1/test/images/BikesHelmets711_png.rf.49e4669b4f13546994f14b37c90eb763.jpg: 416x416 1 With Helmet, Done. (0.008s)\n",
            "image 50/58 /content/datasets/Helmet-with-yolvo-1/test/images/BikesHelmets739_png.rf.d24d2f210d3da0c343cecb05a7629eb6.jpg: 416x416 2 Without Helmets, Done. (0.009s)\n",
            "image 51/58 /content/datasets/Helmet-with-yolvo-1/test/images/BikesHelmets74_png.rf.dbe1e0dc4e82591226941767d9f8e13d.jpg: 416x416 1 With Helmet, 3 Without Helmets, Done. (0.008s)\n",
            "image 52/58 /content/datasets/Helmet-with-yolvo-1/test/images/BikesHelmets79_png.rf.97757d6d3c2274d3d7808af9cafc5d8c.jpg: 416x416 4 With Helmets, Done. (0.008s)\n",
            "image 53/58 /content/datasets/Helmet-with-yolvo-1/test/images/BikesHelmets82_png.rf.5c1968640ec73848bbcc6e32dd5bd436.jpg: 416x416 7 With Helmets, 1 Without Helmet, Done. (0.009s)\n",
            "image 54/58 /content/datasets/Helmet-with-yolvo-1/test/images/BikesHelmets83_png.rf.d1810e4599ed9e0bb1fc42a2591b0c9b.jpg: 416x416 1 With Helmet, Done. (0.008s)\n",
            "image 55/58 /content/datasets/Helmet-with-yolvo-1/test/images/BikesHelmets85_png.rf.b8494671c684baa25dd8adebed9f5011.jpg: 416x416 1 With Helmet, Done. (0.008s)\n",
            "image 56/58 /content/datasets/Helmet-with-yolvo-1/test/images/BikesHelmets90_png.rf.70b95159447aa63b02d86f5a4a4c9027.jpg: 416x416 1 With Helmet, Done. (0.008s)\n",
            "image 57/58 /content/datasets/Helmet-with-yolvo-1/test/images/BikesHelmets95_png.rf.cd1a5d0c79698c678891d371b6ca91b1.jpg: 416x416 2 With Helmets, Done. (0.008s)\n",
            "image 58/58 /content/datasets/Helmet-with-yolvo-1/test/images/BikesHelmets99_png.rf.110d225224fe10dc8695b7cc24e8dc8f.jpg: 416x416 3 With Helmets, 2 Without Helmets, Done. (0.008s)\n",
            "Speed: 0.3ms pre-process, 8.2ms inference, 0.9ms NMS per image at shape (1, 3, 416, 416)\n",
            "Results saved to \u001b[1mruns/detect/exp\u001b[0m\n"
          ]
        }
      ]
    },
    {
      "cell_type": "code",
      "source": [
        "!python detect.py --weights runs/train/exp/weights/best.pt --img 416 --conf 0.1 --source 0"
      ],
      "metadata": {
        "id": "5JbHw5yvYGX9",
        "colab": {
          "base_uri": "https://localhost:8080/"
        },
        "outputId": "93b6169b-8076-409e-b8da-793920fbd949"
      },
      "execution_count": null,
      "outputs": [
        {
          "output_type": "stream",
          "name": "stdout",
          "text": [
            "\u001b[34m\u001b[1mdetect: \u001b[0mweights=['runs/train/exp/weights/best.pt'], source=0, data=data/coco128.yaml, imgsz=[416, 416], conf_thres=0.1, iou_thres=0.45, max_det=1000, device=, view_img=False, save_txt=False, save_conf=False, save_crop=False, nosave=False, classes=None, agnostic_nms=False, augment=False, visualize=False, update=False, project=runs/detect, name=exp, exist_ok=False, line_thickness=3, hide_labels=False, hide_conf=False, half=False, dnn=False\n",
            "YOLOv5 🚀 v6.1-383-g3d47fc6 Python-3.7.13 torch-1.12.0+cu113 CUDA:0 (Tesla T4, 15110MiB)\n",
            "\n",
            "Fusing layers... \n",
            "Model summary: 213 layers, 7015519 parameters, 0 gradients, 15.8 GFLOPs\n",
            "WARNING: Environment does not support cv2.imshow() or PIL Image.show() image displays\n",
            "cv2.imshow() is disabled in Docker environments\n",
            "Traceback (most recent call last):\n",
            "  File \"detect.py\", line 257, in <module>\n",
            "    main(opt)\n",
            "  File \"detect.py\", line 252, in main\n",
            "    run(**vars(opt))\n",
            "  File \"/usr/local/lib/python3.7/dist-packages/torch/autograd/grad_mode.py\", line 27, in decorate_context\n",
            "    return func(*args, **kwargs)\n",
            "  File \"detect.py\", line 101, in run\n",
            "    dataset = LoadStreams(source, img_size=imgsz, stride=stride, auto=pt)\n",
            "  File \"/content/yolov5/utils/dataloaders.py\", line 336, in __init__\n",
            "    assert not is_colab(), '--source 0 webcam unsupported on Colab. Rerun command in a local environment.'\n",
            "AssertionError: --source 0 webcam unsupported on Colab. Rerun command in a local environment.\n"
          ]
        }
      ]
    },
    {
      "cell_type": "code",
      "source": [
        "!python detect.py --weights yolov5s.pt --img 416 --conf 0.1 --source {dataset.location}/test/images"
      ],
      "metadata": {
        "colab": {
          "base_uri": "https://localhost:8080/"
        },
        "id": "hubK3cHkQh6L",
        "outputId": "2a667035-3d92-4e6b-d8e3-fde832c6e6ed"
      },
      "execution_count": null,
      "outputs": [
        {
          "output_type": "stream",
          "name": "stdout",
          "text": [
            "\u001b[34m\u001b[1mdetect: \u001b[0mweights=['yolov5s.pt'], source=/content/datasets/Helmet-with-yolvo-1/test/images, data=data/coco128.yaml, imgsz=[416, 416], conf_thres=0.1, iou_thres=0.45, max_det=1000, device=, view_img=False, save_txt=False, save_conf=False, save_crop=False, nosave=False, classes=None, agnostic_nms=False, augment=False, visualize=False, update=False, project=runs/detect, name=exp, exist_ok=False, line_thickness=3, hide_labels=False, hide_conf=False, half=False, dnn=False\n",
            "YOLOv5 🚀 v6.1-383-g3d47fc6 Python-3.7.13 torch-1.12.0+cu113 CUDA:0 (Tesla T4, 15110MiB)\n",
            "\n",
            "Fusing layers... \n",
            "YOLOv5s summary: 213 layers, 7225885 parameters, 0 gradients\n",
            "image 1/58 /content/datasets/Helmet-with-yolvo-1/test/images/BikesHelmets107_png.rf.26ee7b3cf94b56cf2a0e0270877134e7.jpg: 416x416 1 bird, Done. (0.008s)\n",
            "image 2/58 /content/datasets/Helmet-with-yolvo-1/test/images/BikesHelmets129_png.rf.070b114f61d15198eb705f224117e6f8.jpg: 416x416 1 person, 1 bicycle, Done. (0.010s)\n",
            "image 3/58 /content/datasets/Helmet-with-yolvo-1/test/images/BikesHelmets135_png.rf.36da13650baafedebeb72fda6cad24bc.jpg: 416x416 3 persons, 2 motorcycles, Done. (0.008s)\n",
            "image 4/58 /content/datasets/Helmet-with-yolvo-1/test/images/BikesHelmets136_png.rf.174ec497e7c2ff9687fca3f311fd3e2e.jpg: 416x416 1 person, 1 bicycle, 5 potted plants, Done. (0.008s)\n",
            "image 5/58 /content/datasets/Helmet-with-yolvo-1/test/images/BikesHelmets162_png.rf.9a268300c63adcf218069d50f52fac09.jpg: 416x416 2 persons, 2 bicycles, Done. (0.008s)\n",
            "image 6/58 /content/datasets/Helmet-with-yolvo-1/test/images/BikesHelmets16_png.rf.32442ce4a7984aea188b62659ef802dd.jpg: 416x416 8 persons, 5 bicycles, Done. (0.008s)\n",
            "image 7/58 /content/datasets/Helmet-with-yolvo-1/test/images/BikesHelmets190_png.rf.bde9a571ff7744168f3df6400cbd3c8b.jpg: 416x416 17 persons, 2 bicycles, 2 cars, 3 motorcycles, Done. (0.008s)\n",
            "image 8/58 /content/datasets/Helmet-with-yolvo-1/test/images/BikesHelmets194_png.rf.64f222d347b087cb46282363fbe1c074.jpg: 416x416 7 persons, 2 bicycles, 2 cars, 1 motorcycle, 5 buss, 2 trucks, Done. (0.008s)\n",
            "image 9/58 /content/datasets/Helmet-with-yolvo-1/test/images/BikesHelmets215_png.rf.7f3cd800223825fe6bb85245f4dc7a20.jpg: 416x416 15 persons, 7 motorcycles, Done. (0.008s)\n",
            "image 10/58 /content/datasets/Helmet-with-yolvo-1/test/images/BikesHelmets219_png.rf.49add65fdaef5d8f5aeb43ad864ddebc.jpg: 416x416 16 persons, 6 motorcycles, Done. (0.008s)\n",
            "image 11/58 /content/datasets/Helmet-with-yolvo-1/test/images/BikesHelmets229_png.rf.1572e2f4b968d516daa9ddd5b453a9d8.jpg: 416x416 1 person, 1 motorcycle, Done. (0.009s)\n",
            "image 12/58 /content/datasets/Helmet-with-yolvo-1/test/images/BikesHelmets231_png.rf.1b77efb3e36d07c36f6c1763a4fcb3f3.jpg: 416x416 9 persons, 7 motorcycles, 4 backpacks, Done. (0.012s)\n",
            "image 13/58 /content/datasets/Helmet-with-yolvo-1/test/images/BikesHelmets263_png.rf.a37834a4f29f492bf60487dbce32600d.jpg: 416x416 1 person, 1 motorcycle, Done. (0.008s)\n",
            "image 14/58 /content/datasets/Helmet-with-yolvo-1/test/images/BikesHelmets26_png.rf.b8b3294c4a9fd9816fd973ba26208d6f.jpg: 416x416 1 person, Done. (0.008s)\n",
            "image 15/58 /content/datasets/Helmet-with-yolvo-1/test/images/BikesHelmets291_png.rf.6eca83d46d583d0def1609939ee375cd.jpg: 416x416 1 person, 1 motorcycle, Done. (0.008s)\n",
            "image 16/58 /content/datasets/Helmet-with-yolvo-1/test/images/BikesHelmets314_png.rf.5ac746e62e13ce93f2c5cc827dd3c9f3.jpg: 416x416 7 persons, 1 bicycle, 1 car, 3 motorcycles, 2 trucks, Done. (0.008s)\n",
            "image 17/58 /content/datasets/Helmet-with-yolvo-1/test/images/BikesHelmets322_png.rf.cfc350a7063096ff04a66070cbfe50ff.jpg: 416x416 1 person, 1 motorcycle, 1 bench, Done. (0.008s)\n",
            "image 18/58 /content/datasets/Helmet-with-yolvo-1/test/images/BikesHelmets335_png.rf.340b60f6f76be0b674fab990a905390f.jpg: 416x416 2 persons, 5 motorcycles, Done. (0.008s)\n",
            "image 19/58 /content/datasets/Helmet-with-yolvo-1/test/images/BikesHelmets338_png.rf.07aecba09c8fe5f9b60f3868ace7a8df.jpg: 416x416 17 persons, 12 bicycles, 6 cars, 1 motorcycle, 1 bus, Done. (0.008s)\n",
            "image 20/58 /content/datasets/Helmet-with-yolvo-1/test/images/BikesHelmets343_png.rf.5a955aee303eb4c2333f638f584477db.jpg: 416x416 2 persons, 1 motorcycle, 2 handbags, Done. (0.008s)\n",
            "image 21/58 /content/datasets/Helmet-with-yolvo-1/test/images/BikesHelmets349_png.rf.06fd6be94c2ea9593e1fe779f46e968f.jpg: 416x416 10 persons, 1 car, 1 motorcycle, Done. (0.008s)\n",
            "image 22/58 /content/datasets/Helmet-with-yolvo-1/test/images/BikesHelmets356_png.rf.28b5310882923599aa2e90d986358644.jpg: 416x416 3 persons, 2 bicycles, Done. (0.008s)\n",
            "image 23/58 /content/datasets/Helmet-with-yolvo-1/test/images/BikesHelmets362_png.rf.e5240050b8e8adf237e00b6e5b8e2c40.jpg: 416x416 5 persons, 2 bicycles, 13 cars, 2 motorcycles, 3 parking meters, Done. (0.008s)\n",
            "image 24/58 /content/datasets/Helmet-with-yolvo-1/test/images/BikesHelmets370_png.rf.acb333f455178f3306d043a5438685a0.jpg: 416x416 2 persons, 2 cars, 1 motorcycle, 2 buss, 1 truck, Done. (0.008s)\n",
            "image 25/58 /content/datasets/Helmet-with-yolvo-1/test/images/BikesHelmets380_png.rf.4594d64c444416a09010feff44415e5f.jpg: 416x416 6 persons, 2 cars, 4 motorcycles, Done. (0.008s)\n",
            "image 26/58 /content/datasets/Helmet-with-yolvo-1/test/images/BikesHelmets415_png.rf.276baff03f366795af89f0b5789a802c.jpg: 416x416 3 persons, 3 bicycles, 2 backpacks, Done. (0.008s)\n",
            "image 27/58 /content/datasets/Helmet-with-yolvo-1/test/images/BikesHelmets41_png.rf.8371572902d2c85714a00cda351c98ed.jpg: 416x416 3 persons, 1 motorcycle, Done. (0.013s)\n",
            "image 28/58 /content/datasets/Helmet-with-yolvo-1/test/images/BikesHelmets424_png.rf.86382364b28c1cc70afb3530594367bd.jpg: 416x416 7 persons, 5 bicycles, 1 car, 1 motorcycle, 1 handbag, Done. (0.009s)\n",
            "image 29/58 /content/datasets/Helmet-with-yolvo-1/test/images/BikesHelmets428_png.rf.67934f28de7b055b30b0ab5851718b63.jpg: 416x416 3 persons, 1 motorcycle, Done. (0.008s)\n",
            "image 30/58 /content/datasets/Helmet-with-yolvo-1/test/images/BikesHelmets444_png.rf.c6ba206951157c9c189d4edf378d77a6.jpg: 416x416 4 persons, 1 bicycle, 1 motorcycle, 3 handbags, Done. (0.009s)\n",
            "image 31/58 /content/datasets/Helmet-with-yolvo-1/test/images/BikesHelmets452_png.rf.b05a7722577052f75c345355f69bc44e.jpg: 416x416 1 person, 1 bicycle, 1 tie, Done. (0.008s)\n",
            "image 32/58 /content/datasets/Helmet-with-yolvo-1/test/images/BikesHelmets471_png.rf.9ccfbd476e8020144fd3169520935e92.jpg: 416x416 5 persons, 1 bicycle, 2 motorcycles, 3 buss, 1 handbag, Done. (0.008s)\n",
            "image 33/58 /content/datasets/Helmet-with-yolvo-1/test/images/BikesHelmets489_png.rf.6f009970c60932b02ba32a39bc7eb38b.jpg: 416x416 4 persons, 3 bicycles, 1 backpack, 1 handbag, Done. (0.010s)\n",
            "image 34/58 /content/datasets/Helmet-with-yolvo-1/test/images/BikesHelmets541_png.rf.549c9556db6fb5535d998a5d0b565b41.jpg: 416x416 3 persons, 2 motorcycles, Done. (0.008s)\n",
            "image 35/58 /content/datasets/Helmet-with-yolvo-1/test/images/BikesHelmets559_png.rf.817f21b791f89baeaf7b332accc2fefc.jpg: 416x416 5 persons, 2 motorcycles, 1 cup, Done. (0.008s)\n",
            "image 36/58 /content/datasets/Helmet-with-yolvo-1/test/images/BikesHelmets573_png.rf.803d5c5dd4756d9a3be7491ddc287943.jpg: 416x416 3 persons, 2 bicycles, 1 car, 2 trucks, 1 cell phone, Done. (0.009s)\n",
            "image 37/58 /content/datasets/Helmet-with-yolvo-1/test/images/BikesHelmets57_png.rf.813265701b1594ff5e70994f1c74bfd2.jpg: 416x416 4 persons, 3 bicycles, 1 bus, 1 cell phone, Done. (0.008s)\n",
            "image 38/58 /content/datasets/Helmet-with-yolvo-1/test/images/BikesHelmets5_png.rf.f394809393bcb872ca048ad8b761db98.jpg: 416x416 5 persons, 3 bicycles, 1 cell phone, Done. (0.008s)\n",
            "image 39/58 /content/datasets/Helmet-with-yolvo-1/test/images/BikesHelmets611_png.rf.1de8710d78516d7c6d812c5429147115.jpg: 416x416 3 persons, 3 bicycles, Done. (0.009s)\n",
            "image 40/58 /content/datasets/Helmet-with-yolvo-1/test/images/BikesHelmets619_png.rf.d7f758d842b62de5ea457a530394a802.jpg: 416x416 8 persons, 3 motorcycles, 2 backpacks, Done. (0.008s)\n",
            "image 41/58 /content/datasets/Helmet-with-yolvo-1/test/images/BikesHelmets629_png.rf.ab78c8b93df42d6c5a76aa6732a91c48.jpg: 416x416 1 person, 1 motorcycle, Done. (0.008s)\n",
            "image 42/58 /content/datasets/Helmet-with-yolvo-1/test/images/BikesHelmets649_png.rf.fa9df010327d55e70c1307a14011cc37.jpg: 416x416 1 person, Done. (0.008s)\n",
            "image 43/58 /content/datasets/Helmet-with-yolvo-1/test/images/BikesHelmets657_png.rf.b02d33f845cb7d977fddbfb8c50f924d.jpg: 416x416 14 persons, 1 bicycle, 2 cars, 7 motorcycles, Done. (0.009s)\n",
            "image 44/58 /content/datasets/Helmet-with-yolvo-1/test/images/BikesHelmets665_png.rf.91e3f0f0f591095026eb9a113a52b7a9.jpg: 416x416 10 persons, 1 bicycle, 8 motorcycles, Done. (0.008s)\n",
            "image 45/58 /content/datasets/Helmet-with-yolvo-1/test/images/BikesHelmets677_png.rf.b87bf7ce45359c83b258bcf811902f45.jpg: 416x416 2 persons, 1 motorcycle, Done. (0.008s)\n",
            "image 46/58 /content/datasets/Helmet-with-yolvo-1/test/images/BikesHelmets682_png.rf.8a097001c7e5f7011769b5dcb1c56736.jpg: 416x416 1 person, 1 bicycle, Done. (0.008s)\n",
            "image 47/58 /content/datasets/Helmet-with-yolvo-1/test/images/BikesHelmets6_png.rf.556ed28b5a19b31c1c73ac29ac376286.jpg: 416x416 16 persons, 1 bicycle, 5 motorcycles, Done. (0.008s)\n",
            "image 48/58 /content/datasets/Helmet-with-yolvo-1/test/images/BikesHelmets707_png.rf.4689db81815d4db333bfcfda5937c5a0.jpg: 416x416 3 persons, 1 motorcycle, Done. (0.009s)\n",
            "image 49/58 /content/datasets/Helmet-with-yolvo-1/test/images/BikesHelmets711_png.rf.49e4669b4f13546994f14b37c90eb763.jpg: 416x416 4 persons, 1 bicycle, 1 motorcycle, Done. (0.008s)\n",
            "image 50/58 /content/datasets/Helmet-with-yolvo-1/test/images/BikesHelmets739_png.rf.d24d2f210d3da0c343cecb05a7629eb6.jpg: 416x416 1 person, 1 car, Done. (0.008s)\n",
            "image 51/58 /content/datasets/Helmet-with-yolvo-1/test/images/BikesHelmets74_png.rf.dbe1e0dc4e82591226941767d9f8e13d.jpg: 416x416 4 persons, 6 motorcycles, Done. (0.008s)\n",
            "image 52/58 /content/datasets/Helmet-with-yolvo-1/test/images/BikesHelmets79_png.rf.97757d6d3c2274d3d7808af9cafc5d8c.jpg: 416x416 6 persons, 3 bicycles, 1 boat, 3 backpacks, Done. (0.008s)\n",
            "image 53/58 /content/datasets/Helmet-with-yolvo-1/test/images/BikesHelmets82_png.rf.5c1968640ec73848bbcc6e32dd5bd436.jpg: 416x416 17 persons, 12 bicycles, Done. (0.009s)\n",
            "image 54/58 /content/datasets/Helmet-with-yolvo-1/test/images/BikesHelmets83_png.rf.d1810e4599ed9e0bb1fc42a2591b0c9b.jpg: 416x416 6 persons, 5 cars, 1 motorcycle, 1 bus, Done. (0.011s)\n",
            "image 55/58 /content/datasets/Helmet-with-yolvo-1/test/images/BikesHelmets85_png.rf.b8494671c684baa25dd8adebed9f5011.jpg: 416x416 2 persons, Done. (0.008s)\n",
            "image 56/58 /content/datasets/Helmet-with-yolvo-1/test/images/BikesHelmets90_png.rf.70b95159447aa63b02d86f5a4a4c9027.jpg: 416x416 1 person, 1 motorcycle, 1 handbag, Done. (0.008s)\n",
            "image 57/58 /content/datasets/Helmet-with-yolvo-1/test/images/BikesHelmets95_png.rf.cd1a5d0c79698c678891d371b6ca91b1.jpg: 416x416 2 persons, 2 bicycles, 2 backpacks, Done. (0.008s)\n",
            "image 58/58 /content/datasets/Helmet-with-yolvo-1/test/images/BikesHelmets99_png.rf.110d225224fe10dc8695b7cc24e8dc8f.jpg: 416x416 4 persons, 4 bicycles, Done. (0.011s)\n",
            "Speed: 0.3ms pre-process, 8.6ms inference, 0.9ms NMS per image at shape (1, 3, 416, 416)\n",
            "Results saved to \u001b[1mruns/detect/exp6\u001b[0m\n"
          ]
        }
      ]
    },
    {
      "cell_type": "code",
      "source": [],
      "metadata": {
        "id": "WxPABqV7QnyU"
      },
      "execution_count": null,
      "outputs": []
    }
  ]
}